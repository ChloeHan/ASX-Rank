{
 "cells": [
  {
   "cell_type": "code",
   "execution_count": null,
   "id": "f0863290",
   "metadata": {},
   "outputs": [],
   "source": [
    "import datetime as dt\n",
    "import pandas as pd\n",
    "import plotly.offline as pyo\n",
    "from pandas_datareader import data as pdr\n",
    "\n",
    "end = dt.datetime.now()\n",
    "start = dt.datetime(2020,1,1)\n",
    "start, end\n",
    "\n",
    "stockList = ['WGX','SLR','EVN','NIC','QAN']\n",
    "stocks = [i+ '.AX' for i in stockList]\n",
    "stocks\n",
    "\n",
    "df = pdr.get_data_yahoo(stocks, start, end)\n",
    "df.head()\n",
    "df.index\n",
    "df.columns\n",
    "\n",
    "Close = df.Close\n",
    "Close.head()\n",
    "Close[Close.index > end - dt.timedelta(days = 100)].describe(percentiles =[0.1,0.5,0.9])\n",
    "#Close.plot(figsize=(12,8))\n",
    "\n",
    "pyo.init_notebook_mode(connected =True)\n",
    "pd.options.plotting.backend ='plotly'\n",
    "Close.plot()\n",
    "#Close['EVN.AX'].pct_change().plot(kind='hist')\n",
    "\n"
   ]
  },
  {
   "cell_type": "code",
   "execution_count": null,
   "id": "14d45f59",
   "metadata": {},
   "outputs": [],
   "source": []
  }
 ],
 "metadata": {
  "kernelspec": {
   "display_name": "Python 3 (ipykernel)",
   "language": "python",
   "name": "python3"
  },
  "language_info": {
   "codemirror_mode": {
    "name": "ipython",
    "version": 3
   },
   "file_extension": ".py",
   "mimetype": "text/x-python",
   "name": "python",
   "nbconvert_exporter": "python",
   "pygments_lexer": "ipython3",
   "version": "3.9.6"
  }
 },
 "nbformat": 4,
 "nbformat_minor": 5
}
