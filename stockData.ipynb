import datetime as dt
import pandas as pd
import plotly.offline as pyo
from pandas_datareader import data as pdr

end = dt.datetime.now()
start = dt.datetime(2010,1,1)
start, end

stockList = ['WGX','SLR','EVN','RRL']
stocks = [i+ '.AX' for i in stockList]
stocks

df = pdr.get_data_yahoo(stocks, start, end)
df.head()
df.index
df.columns

Close = df.Close
Close.head()
Close[Close.index > end - dt.timedelta(days = 100)].describe(percentiles =[0.1,0.5,0.9])
#Close.plot(figsize=(12,8))

pyo.init_notebook_mode(connected =True)
pd.options.plotting.backend ='plotly'
Close.plot()
#Close['EVN.AX'].pct_change().plot(kind='hist')
